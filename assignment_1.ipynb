{
 "cells": [
  {
   "cell_type": "markdown",
   "metadata": {},
   "source": [
    "Part 1: Building the base Anagram Checker"
   ]
  },
  {
   "cell_type": "markdown",
   "metadata": {},
   "source": [
    "The objective here is build a function that make sure that two words are anagrams of each other.\n",
    "\n",
    "What is an anagram?\n",
    "Let me tell you an anagram is a word formed by rearranging the letters of another word, such as \"silent\" and \"listen\""
   ]
  },
  {
   "cell_type": "code",
   "execution_count": 1,
   "metadata": {},
   "outputs": [
    {
     "name": "stdout",
     "output_type": "stream",
     "text": [
      "True\n",
      "False\n",
      "True\n"
     ]
    }
   ],
   "source": [
    "def anagram_checker(word_a, word_b):\n",
    "    # Handling Case Sensitivity\n",
    "    word_a = word_a.lower()\n",
    "    word_b = word_b.lower()\n",
    "    \n",
    "    # Sorting the letters\n",
    "    sorted_word_a = sorted(word_a)\n",
    "    sorted_word_b = sorted(word_b)\n",
    "    \n",
    "    # Comparing\n",
    "    return sorted_word_a == sorted_word_b\n",
    "\n",
    "# Test\n",
    "print(anagram_checker(\"Silent\", \"listen\"))  \n",
    "print(anagram_checker(\"Silent\", \"Night\"))   \n",
    "print(anagram_checker(\"night\", \"Thing\"))    \n"
   ]
  },
  {
   "cell_type": "markdown",
   "metadata": {},
   "source": [
    "Part 2: Expanding the Functionality of the Anagram Checker"
   ]
  },
  {
   "cell_type": "code",
   "execution_count": 2,
   "metadata": {},
   "outputs": [
    {
     "name": "stdout",
     "output_type": "stream",
     "text": [
      "True\n",
      "False\n",
      "True\n"
     ]
    }
   ],
   "source": [
    "def anagram_checker(word_a, word_b, is_case_sensitive=False):\n",
    "    # Handling Case Sensitivity\n",
    "    if not is_case_sensitive:\n",
    "        word_a = word_a.lower()\n",
    "        word_b = word_b.lower()\n",
    "    \n",
    "    # Sorting the letters\n",
    "    sorted_word_a = sorted(word_a)\n",
    "    sorted_word_b = sorted(word_b)\n",
    "    \n",
    "    # Comparing\n",
    "    return sorted_word_a == sorted_word_b\n",
    "\n",
    "# Test\n",
    "print(anagram_checker(\"Silent\", \"listen\", False))  \n",
    "print(anagram_checker(\"Silent\", \"Listen\", True))   \n",
    "print(anagram_checker(\"Silent\", \"Listen\", False))  \n"
   ]
  },
  {
   "cell_type": "markdown",
   "metadata": {},
   "source": [
    "!!Assignment Completed!!"
   ]
  },
  {
   "cell_type": "markdown",
   "metadata": {},
   "source": []
  }
 ],
 "metadata": {
  "kernelspec": {
   "display_name": "dsi_participant",
   "language": "python",
   "name": "python3"
  },
  "language_info": {
   "codemirror_mode": {
    "name": "ipython",
    "version": 3
   },
   "file_extension": ".py",
   "mimetype": "text/x-python",
   "name": "python",
   "nbconvert_exporter": "python",
   "pygments_lexer": "ipython3",
   "version": "3.9.15"
  }
 },
 "nbformat": 4,
 "nbformat_minor": 2
}
